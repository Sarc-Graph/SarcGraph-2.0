{
 "cells": [
  {
   "attachments": {},
   "cell_type": "markdown",
   "metadata": {},
   "source": [
    "# SarcGraphTools - Analysis\n",
    "\n",
    "SarcGraph includes the tools which enable the recovery of basic sarcomere characteristics and the ability to run further high level analysis.\n",
    "\n",
    "In this notebook we provide a tutorial on how to use the SarcGraph package using demos and examples. The focus is on the ``SarcGraphTools.Analysis`` class in the ``sg_tools`` module."
   ]
  },
  {
   "attachments": {},
   "cell_type": "markdown",
   "metadata": {},
   "source": [
    "## Initialization"
   ]
  },
  {
   "attachments": {},
   "cell_type": "markdown",
   "metadata": {},
   "source": [
    "Methods in the ``SarcGraphTools`` class need the information that will be saved by running ``SarcGraph.sarcomere_detection()``.\n",
    "\n",
    "To showcase this we use ``samples/sample_1.avi``."
   ]
  },
  {
   "cell_type": "code",
   "execution_count": 3,
   "metadata": {},
   "outputs": [
    {
     "name": "stdout",
     "output_type": "stream",
     "text": [
      "Frame 79: 91 trajectories present.\n"
     ]
    },
    {
     "data": {
      "text/html": [
       "<div>\n",
       "<style scoped>\n",
       "    .dataframe tbody tr th:only-of-type {\n",
       "        vertical-align: middle;\n",
       "    }\n",
       "\n",
       "    .dataframe tbody tr th {\n",
       "        vertical-align: top;\n",
       "    }\n",
       "\n",
       "    .dataframe thead th {\n",
       "        text-align: right;\n",
       "    }\n",
       "</style>\n",
       "<table border=\"1\" class=\"dataframe\">\n",
       "  <thead>\n",
       "    <tr style=\"text-align: right;\">\n",
       "      <th></th>\n",
       "      <th>frame</th>\n",
       "      <th>sarc_id</th>\n",
       "      <th>x</th>\n",
       "      <th>y</th>\n",
       "      <th>length</th>\n",
       "      <th>width</th>\n",
       "      <th>angle</th>\n",
       "      <th>zdiscs</th>\n",
       "    </tr>\n",
       "  </thead>\n",
       "  <tbody>\n",
       "    <tr>\n",
       "      <th>6678</th>\n",
       "      <td>38</td>\n",
       "      <td>83</td>\n",
       "      <td>165.939891</td>\n",
       "      <td>327.784237</td>\n",
       "      <td>20.597710</td>\n",
       "      <td>9.623973</td>\n",
       "      <td>3.020267</td>\n",
       "      <td>79,87</td>\n",
       "    </tr>\n",
       "    <tr>\n",
       "      <th>3291</th>\n",
       "      <td>11</td>\n",
       "      <td>41</td>\n",
       "      <td>238.905308</td>\n",
       "      <td>290.701994</td>\n",
       "      <td>10.263634</td>\n",
       "      <td>9.488037</td>\n",
       "      <td>2.491329</td>\n",
       "      <td>1,7</td>\n",
       "    </tr>\n",
       "    <tr>\n",
       "      <th>5420</th>\n",
       "      <td>60</td>\n",
       "      <td>67</td>\n",
       "      <td>203.236671</td>\n",
       "      <td>152.520603</td>\n",
       "      <td>10.889736</td>\n",
       "      <td>8.922850</td>\n",
       "      <td>1.205358</td>\n",
       "      <td>44,71</td>\n",
       "    </tr>\n",
       "    <tr>\n",
       "      <th>5837</th>\n",
       "      <td>77</td>\n",
       "      <td>72</td>\n",
       "      <td>142.413402</td>\n",
       "      <td>167.872557</td>\n",
       "      <td>14.623618</td>\n",
       "      <td>9.471241</td>\n",
       "      <td>1.275100</td>\n",
       "      <td>49,51</td>\n",
       "    </tr>\n",
       "    <tr>\n",
       "      <th>561</th>\n",
       "      <td>1</td>\n",
       "      <td>7</td>\n",
       "      <td>68.902626</td>\n",
       "      <td>253.415447</td>\n",
       "      <td>25.731063</td>\n",
       "      <td>27.986206</td>\n",
       "      <td>1.428392</td>\n",
       "      <td>-36,-33</td>\n",
       "    </tr>\n",
       "  </tbody>\n",
       "</table>\n",
       "</div>"
      ],
      "text/plain": [
       "      frame  sarc_id           x           y     length      width     angle  \\\n",
       "6678     38       83  165.939891  327.784237  20.597710   9.623973  3.020267   \n",
       "3291     11       41  238.905308  290.701994  10.263634   9.488037  2.491329   \n",
       "5420     60       67  203.236671  152.520603  10.889736   8.922850  1.205358   \n",
       "5837     77       72  142.413402  167.872557  14.623618   9.471241  1.275100   \n",
       "561       1        7   68.902626  253.415447  25.731063  27.986206  1.428392   \n",
       "\n",
       "       zdiscs  \n",
       "6678    79,87  \n",
       "3291      1,7  \n",
       "5420    44,71  \n",
       "5837    49,51  \n",
       "561   -36,-33  "
      ]
     },
     "execution_count": 3,
     "metadata": {},
     "output_type": "execute_result"
    }
   ],
   "source": [
    "import numpy as np\n",
    "import matplotlib.pyplot as plt\n",
    "import pandas as pd\n",
    "\n",
    "from sarcgraph.sg import SarcGraph\n",
    "\n",
    "sg = SarcGraph(output_dir='../tutorial-results', file_type='video')\n",
    "sarcomeres, _ = sg.sarcomere_detection(file_path='../samples/sample_1.avi')\n",
    "\n",
    "sarcomeres.sample(5)"
   ]
  },
  {
   "attachments": {},
   "cell_type": "markdown",
   "metadata": {},
   "source": [
    "By default ``save_output=True`` in ``sg.sarcomere_detection()`` and the following information will be saved in ``../tutorial-results``:\n",
    "\n",
    "- raw video frames (grayscale)\n",
    "- filtered video frames\n",
    "- zdisc contours\n",
    "- segmented zdiscs information\n",
    "- tracked zdiscs information\n",
    "- detected sarcomeres information"
   ]
  },
  {
   "attachments": {},
   "cell_type": "markdown",
   "metadata": {},
   "source": [
    "The next step is to run ``SarcGraphTools.TimeSeries()`` to apply GPR on timeseries data related to each sarcomere."
   ]
  },
  {
   "cell_type": "code",
   "execution_count": 1,
   "metadata": {},
   "outputs": [],
   "source": [
    "from sarcgraph.sg_tools import SarcGraphTools\n",
    "\n",
    "sg_tools = SarcGraphTools(input_dir='../tutorial-results')\n",
    "_ = sg_tools.time_series.sarcomeres_gpr()"
   ]
  },
  {
   "attachments": {},
   "cell_type": "markdown",
   "metadata": {},
   "source": [
    "This step is used for noise reduction as well as interpolating missing values of the timeseries (``x_position``, ``y_position``, ``length``, ``width``, ``angle``, ``length_normalized``)."
   ]
  },
  {
   "attachments": {},
   "cell_type": "markdown",
   "metadata": {},
   "source": [
    "## Characterization Analysis"
   ]
  },
  {
   "attachments": {},
   "cell_type": "markdown",
   "metadata": {},
   "source": [
    "Here is a list of available functions in the ``SarcGraphTools.Analysis`` class:\n",
    "\n",
    "- ``compute_F_J()``: Computes the average deformation gradient (F) and its jacobian (J) for the whole movie\n",
    "\n",
    "- ``compute_OOP()``: Computes Orientation Order Parameter (OOP) for the whole movie\n",
    "\n",
    "- ``compute_metrics()``: Computes (`OOP`, `C_iso`, `C_OOP`, `s_til`, `s_avg`) as defined in the [SarcGraph paper](https://journals.plos.org/ploscompbiol/article?id=10.1371/journal.pcbi.1009443)\n",
    "\n",
    "- ``compute_ts_params()``: Computes (`contraction time`, `relaxation time`, `flat time`, `period`, `offset`, etc.) for timeseries\n",
    "\n",
    "- ``create_spatial_graph()``: Generates a spatial graph of tracked z-discs where edges indicate sarcomeres and edge weights indicate the ratio of the frames in which each sarcomere is detected\n",
    "\n",
    "**Note**\n",
    "\n",
    "Check the reference api for [SarcGraphTools](../reference/sg_tools.rst)\n",
    "\n",
    "<a id='analysis-functions'></a>"
   ]
  },
  {
   "attachments": {},
   "cell_type": "markdown",
   "metadata": {},
   "source": [
    "To run these functions, create an instance of the ``SarcGraphTools`` class and set the ``input_dir`` to the directory used previously to save the output of sarcomere detection (in this case ``input_dir='../tutorial-results'``)"
   ]
  },
  {
   "cell_type": "code",
   "execution_count": 1,
   "metadata": {},
   "outputs": [],
   "source": [
    "from sarcgraph.sg_tools import SarcGraphTools\n",
    "\n",
    "sg_tools = SarcGraphTools(input_dir='../tutorial-results')"
   ]
  },
  {
   "attachments": {},
   "cell_type": "markdown",
   "metadata": {},
   "source": [
    "Now, any of the functions listed [above](#analysis-functions) can be executed. For examples, run the following for ``F`` and ``J`` computation:"
   ]
  },
  {
   "cell_type": "code",
   "execution_count": 2,
   "metadata": {},
   "outputs": [],
   "source": [
    "F, J = sg_tools.analysis.compute_F_J()"
   ]
  },
  {
   "attachments": {},
   "cell_type": "markdown",
   "metadata": {},
   "source": [
    "This also saves ``F`` and ``J`` in the specified input directory ``input_dir`` if ``save_results=True`` in ``SarcGraphTools``"
   ]
  },
  {
   "attachments": {},
   "cell_type": "markdown",
   "metadata": {},
   "source": [
    "Run the rest of the function:"
   ]
  },
  {
   "cell_type": "code",
   "execution_count": 3,
   "metadata": {},
   "outputs": [],
   "source": [
    "OOP, OOP_vec = sg_tools.analysis.compute_OOP()"
   ]
  },
  {
   "cell_type": "code",
   "execution_count": 4,
   "metadata": {},
   "outputs": [],
   "source": [
    "metrics = sg_tools.analysis.compute_metrics()"
   ]
  },
  {
   "cell_type": "code",
   "execution_count": 5,
   "metadata": {},
   "outputs": [],
   "source": [
    "ts_params = sg_tools.analysis.compute_ts_params()"
   ]
  },
  {
   "attachments": {},
   "cell_type": "markdown",
   "metadata": {},
   "source": [
    "**Note**\n",
    "\n",
    "``create_spatial_graph()`` needs access to the original video/image file ``file_path`` or a dataframe that contains information of detected and tracked z-discs ``tracked_zdiscs``. So, below we show two ways to run this functions:"
   ]
  },
  {
   "attachments": {},
   "cell_type": "markdown",
   "metadata": {},
   "source": [
    "1. Specifying ``file_path``"
   ]
  },
  {
   "cell_type": "code",
   "execution_count": 3,
   "metadata": {},
   "outputs": [
    {
     "name": "stdout",
     "output_type": "stream",
     "text": [
      "Frame 79: 91 trajectories present.\n"
     ]
    }
   ],
   "source": [
    "sg_tools.analysis.create_spatial_graph(file_path='../samples/sample_1.avi')"
   ]
  },
  {
   "attachments": {},
   "cell_type": "markdown",
   "metadata": {},
   "source": [
    "2. Specifying ``tracked_zidscs``"
   ]
  },
  {
   "cell_type": "code",
   "execution_count": 6,
   "metadata": {},
   "outputs": [],
   "source": [
    "# loading saved tracked_zidscs from 'tutorial-results' folder\n",
    "import pandas as pd\n",
    "\n",
    "tracked_zdiscs = pd.read_csv(\n",
    "    f\"{sg_tools.input_dir}/tracked-zdiscs.csv\", index_col=[0]\n",
    ")\n",
    "\n",
    "sg_tools.analysis.create_spatial_graph(tracked_zdiscs=tracked_zdiscs)"
   ]
  },
  {
   "attachments": {},
   "cell_type": "markdown",
   "metadata": {},
   "source": [
    "After running all functions the following files will be added to ``input_dir``:\n",
    "\n",
    "- ``recovered_F.npy``\n",
    "- ``recovered_J.npy``\n",
    "- ``recovered_OOP.npy``\n",
    "- ``recovered_OOP_vector.npy``\n",
    "- ``recovered_metrics.json``\n",
    "- ``spatial-graph.pkl``\n",
    "- ``spatial-graph-pos.pkl``\n",
    "- ``time_series_params.csv``"
   ]
  }
 ],
 "metadata": {
  "kernelspec": {
   "display_name": "sg2",
   "language": "python",
   "name": "python3"
  },
  "language_info": {
   "codemirror_mode": {
    "name": "ipython",
    "version": 3
   },
   "file_extension": ".py",
   "mimetype": "text/x-python",
   "name": "python",
   "nbconvert_exporter": "python",
   "pygments_lexer": "ipython3",
   "version": "3.10.9"
  },
  "orig_nbformat": 4,
  "vscode": {
   "interpreter": {
    "hash": "79c2089fc523b9ad1d8821c7187927c78ede6adfb90a52983ffd5c8fec7691b7"
   }
  }
 },
 "nbformat": 4,
 "nbformat_minor": 2
}
