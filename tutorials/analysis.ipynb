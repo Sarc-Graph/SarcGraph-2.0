{
 "cells": [
  {
   "attachments": {},
   "cell_type": "markdown",
   "metadata": {},
   "source": [
    "# SarcGraphTools - Analysis\n",
    "\n",
    "SarcGraph includes the tools which enable the recovery of basic sarcomere characteristics and the ability to run further high level analysis.\n",
    "\n",
    "In this notebook we provide a tutorial on how to use the SarcGraph package using demos and examples. The focus is on the ``SarcGraphTools.Analysis`` class in the ``sg_tools`` module."
   ]
  },
  {
   "attachments": {},
   "cell_type": "markdown",
   "metadata": {},
   "source": [
    "## Initialization"
   ]
  },
  {
   "attachments": {},
   "cell_type": "markdown",
   "metadata": {},
   "source": [
    "Methods in the ``SarcGraphTools`` class need the information that will be saved by running ``SarcGraph.sarcomere_detection()``.\n",
    "\n",
    "To showcase this we use ``samples/sample_1.avi``."
   ]
  },
  {
   "cell_type": "code",
   "execution_count": 7,
   "metadata": {},
   "outputs": [
    {
     "name": "stdout",
     "output_type": "stream",
     "text": [
      "Frame 79: 91 trajectories present.\n"
     ]
    },
    {
     "data": {
      "text/html": [
       "<div>\n",
       "<style scoped>\n",
       "    .dataframe tbody tr th:only-of-type {\n",
       "        vertical-align: middle;\n",
       "    }\n",
       "\n",
       "    .dataframe tbody tr th {\n",
       "        vertical-align: top;\n",
       "    }\n",
       "\n",
       "    .dataframe thead th {\n",
       "        text-align: right;\n",
       "    }\n",
       "</style>\n",
       "<table border=\"1\" class=\"dataframe\">\n",
       "  <thead>\n",
       "    <tr style=\"text-align: right;\">\n",
       "      <th></th>\n",
       "      <th>frame</th>\n",
       "      <th>sarc_id</th>\n",
       "      <th>x</th>\n",
       "      <th>y</th>\n",
       "      <th>length</th>\n",
       "      <th>width</th>\n",
       "      <th>angle</th>\n",
       "      <th>zdiscs</th>\n",
       "    </tr>\n",
       "  </thead>\n",
       "  <tbody>\n",
       "    <tr>\n",
       "      <th>2394</th>\n",
       "      <td>74</td>\n",
       "      <td>29</td>\n",
       "      <td>309.229011</td>\n",
       "      <td>111.263350</td>\n",
       "      <td>24.840779</td>\n",
       "      <td>26.971834</td>\n",
       "      <td>0.971749</td>\n",
       "      <td>-15,-13</td>\n",
       "    </tr>\n",
       "    <tr>\n",
       "      <th>6930</th>\n",
       "      <td>50</td>\n",
       "      <td>86</td>\n",
       "      <td>159.331385</td>\n",
       "      <td>193.776236</td>\n",
       "      <td>10.582432</td>\n",
       "      <td>9.486168</td>\n",
       "      <td>0.241074</td>\n",
       "      <td>84,89</td>\n",
       "    </tr>\n",
       "    <tr>\n",
       "      <th>3418</th>\n",
       "      <td>58</td>\n",
       "      <td>42</td>\n",
       "      <td>247.852635</td>\n",
       "      <td>252.761965</td>\n",
       "      <td>8.942269</td>\n",
       "      <td>8.214637</td>\n",
       "      <td>0.556451</td>\n",
       "      <td>2,20</td>\n",
       "    </tr>\n",
       "    <tr>\n",
       "      <th>1072</th>\n",
       "      <td>32</td>\n",
       "      <td>13</td>\n",
       "      <td>82.086428</td>\n",
       "      <td>302.653940</td>\n",
       "      <td>25.060231</td>\n",
       "      <td>25.112755</td>\n",
       "      <td>1.143445</td>\n",
       "      <td>-32,-29</td>\n",
       "    </tr>\n",
       "    <tr>\n",
       "      <th>2478</th>\n",
       "      <td>78</td>\n",
       "      <td>30</td>\n",
       "      <td>310.088653</td>\n",
       "      <td>324.143339</td>\n",
       "      <td>24.318063</td>\n",
       "      <td>24.184265</td>\n",
       "      <td>2.122222</td>\n",
       "      <td>-14,-12</td>\n",
       "    </tr>\n",
       "  </tbody>\n",
       "</table>\n",
       "</div>"
      ],
      "text/plain": [
       "      frame  sarc_id           x           y     length      width     angle  \\\n",
       "2394     74       29  309.229011  111.263350  24.840779  26.971834  0.971749   \n",
       "6930     50       86  159.331385  193.776236  10.582432   9.486168  0.241074   \n",
       "3418     58       42  247.852635  252.761965   8.942269   8.214637  0.556451   \n",
       "1072     32       13   82.086428  302.653940  25.060231  25.112755  1.143445   \n",
       "2478     78       30  310.088653  324.143339  24.318063  24.184265  2.122222   \n",
       "\n",
       "       zdiscs  \n",
       "2394  -15,-13  \n",
       "6930    84,89  \n",
       "3418     2,20  \n",
       "1072  -32,-29  \n",
       "2478  -14,-12  "
      ]
     },
     "execution_count": 7,
     "metadata": {},
     "output_type": "execute_result"
    }
   ],
   "source": [
    "import numpy as np\n",
    "import matplotlib.pyplot as plt\n",
    "import pandas as pd\n",
    "\n",
    "from sarcgraph.sg import SarcGraph\n",
    "\n",
    "sg = SarcGraph(output_dir='tutorial-results', file_type='video')\n",
    "sarcomeres, _ = sg.sarcomere_detection(file_path='../samples/sample_1.avi')\n",
    "\n",
    "sarcomeres.sample(5)"
   ]
  },
  {
   "attachments": {},
   "cell_type": "markdown",
   "metadata": {},
   "source": [
    "By dafault ``save_output=True`` in ``sg.sarcomere_detection()`` and the following information will be saved in ``../tutorial-results``:\n",
    "\n",
    "- raw video frames (grayscale)\n",
    "- filtered video frames\n",
    "- zdisc contours\n",
    "- segmented zdiscs information\n",
    "- tracked zdiscs information\n",
    "- detected sarcomeres information"
   ]
  },
  {
   "attachments": {},
   "cell_type": "markdown",
   "metadata": {},
   "source": [
    "The next step is to run ``SarcGraphTools.TimeSeries()`` to apply GPR on timeseries data related to each sarcomere."
   ]
  },
  {
   "cell_type": "code",
   "execution_count": 1,
   "metadata": {},
   "outputs": [],
   "source": [
    "from sarcgraph.sg_tools import SarcGraphTools\n",
    "\n",
    "sg_tools = SarcGraphTools(input_dir='tutorial-results')\n",
    "_ = sg_tools.time_series.sarcomeres_gpr()"
   ]
  },
  {
   "attachments": {},
   "cell_type": "markdown",
   "metadata": {},
   "source": [
    "This step is used for noise reduction as well as interpolating missing values of the timeseries (``x_position``, ``y_position``, ``length``, ``width``, ``angle``, ``length_normalized``)."
   ]
  },
  {
   "attachments": {},
   "cell_type": "markdown",
   "metadata": {},
   "source": [
    "## Characterization Analysis"
   ]
  },
  {
   "attachments": {},
   "cell_type": "markdown",
   "metadata": {},
   "source": [
    "Here is a list of available functions in the ``SarcGraphTools.Analysis`` class:\n",
    "\n",
    "- ``compute_F_J()``: Computes the average deformation gradient (F) and its jacobian (J) for the whole movie\n",
    "\n",
    "- ``compute_OOP()``: Computes Orientation Order Parameter (OOP) for the whole movie\n",
    "\n",
    "- ``compute_metrics()``: Computes (`OOP`, `C_iso`, `C_OOP`, `s_til`, `s_avg`) as defind in the [SarcGraph paper] (https://journals.plos.org/ploscompbiol/article?id=10.1371/journal.pcbi.1009443)\n",
    "\n",
    "- ``compute_ts_params()``: Computes (`contraction time`, `relaxation time`, `flat time`, `period`, `offset`, etc.) for timeseries\n",
    "\n",
    "- ``create_spatial_graph()``: Generates a spatial graph of tracked zdiscs where edges indicate sarcomeres and edge weights indicates the ratio of the frames in which that sarcomere is detected\n",
    "\n",
    "**Note**\n",
    "\n",
    "Check the reference api for [SarcGraphTools](../reference/sg_tools.rst)\n",
    "\n",
    "<a id='analysis-functions'></a>"
   ]
  },
  {
   "attachments": {},
   "cell_type": "markdown",
   "metadata": {},
   "source": [
    "To run these functions, create an instance of the ``SarcGraphTools`` class and set the ``input_dir`` to the directory used previously to save the output of sarcomere detection (in this case ``input_dir='tutorial-results'``)"
   ]
  },
  {
   "cell_type": "code",
   "execution_count": 1,
   "metadata": {},
   "outputs": [],
   "source": [
    "from sarcgraph.sg_tools import SarcGraphTools\n",
    "\n",
    "sg_tools = SarcGraphTools(input_dir='tutorial-results')"
   ]
  },
  {
   "attachments": {},
   "cell_type": "markdown",
   "metadata": {},
   "source": [
    "Now, any of the functions listed [above](#analysis-functions) can be executed. For examples, run the following for ``F`` and ``J`` computation:"
   ]
  },
  {
   "cell_type": "code",
   "execution_count": 2,
   "metadata": {},
   "outputs": [],
   "source": [
    "F, J = sg_tools.analysis.compute_F_J()"
   ]
  },
  {
   "attachments": {},
   "cell_type": "markdown",
   "metadata": {},
   "source": [
    "This also saves ``F`` and ``J`` in the specified input directory ``input_dir`` if ``save_results=True`` in ``SarcGraphTools``"
   ]
  },
  {
   "attachments": {},
   "cell_type": "markdown",
   "metadata": {},
   "source": [
    "Run the rest of the function:"
   ]
  },
  {
   "cell_type": "code",
   "execution_count": 3,
   "metadata": {},
   "outputs": [],
   "source": [
    "OOP, OOP_vec = sg_tools.analysis.compute_OOP()"
   ]
  },
  {
   "cell_type": "code",
   "execution_count": 4,
   "metadata": {},
   "outputs": [],
   "source": [
    "metrics = sg_tools.analysis.compute_metrics()"
   ]
  },
  {
   "cell_type": "code",
   "execution_count": 5,
   "metadata": {},
   "outputs": [],
   "source": [
    "ts_params = sg_tools.analysis.compute_ts_params()"
   ]
  },
  {
   "attachments": {},
   "cell_type": "markdown",
   "metadata": {},
   "source": [
    "**Note**\n",
    "\n",
    "``create_spatial_graph()`` needs access to the original video/image file ``file_path`` or a dataframe that contains information of detected and tracked zdiscs ``tracked_zdiscs``. So, below we show two ways to run this functions:"
   ]
  },
  {
   "attachments": {},
   "cell_type": "markdown",
   "metadata": {},
   "source": [
    "1. Specifying ``file_path``"
   ]
  },
  {
   "cell_type": "code",
   "execution_count": 3,
   "metadata": {},
   "outputs": [
    {
     "name": "stdout",
     "output_type": "stream",
     "text": [
      "Frame 79: 91 trajectories present.\n"
     ]
    }
   ],
   "source": [
    "sg_tools.analysis.create_spatial_graph(file_path='../samples/sample_1.avi')"
   ]
  },
  {
   "attachments": {},
   "cell_type": "markdown",
   "metadata": {},
   "source": [
    "2. Specifying ``tracked_zidscs``"
   ]
  },
  {
   "cell_type": "code",
   "execution_count": 6,
   "metadata": {},
   "outputs": [],
   "source": [
    "# loading saved tracked_zidscs from 'tutorial-results' folder\n",
    "import pandas as pd\n",
    "\n",
    "tracked_zdiscs = pd.read_csv(\n",
    "    f\"{sg_tools.input_dir}/tracked-zdiscs.csv\", index_col=[0]\n",
    ")\n",
    "\n",
    "sg_tools.analysis.create_spatial_graph(tracked_zdiscs=tracked_zdiscs)"
   ]
  },
  {
   "attachments": {},
   "cell_type": "markdown",
   "metadata": {},
   "source": [
    "After running all functions the following files will be added to ``input_dir``:\n",
    "\n",
    "- ``recovered_F.npy``\n",
    "- ``recovered_J.npy``\n",
    "- ``recovered_OOP.npy``\n",
    "- ``recovered_OOP_vector.npy``\n",
    "- ``recovered_metrics.json``\n",
    "- ``spatial-graph.pkl``\n",
    "- ``spatial-graph-pos.pkl``\n",
    "- ``time_series_params.csv``"
   ]
  }
 ],
 "metadata": {
  "kernelspec": {
   "display_name": "sg2",
   "language": "python",
   "name": "python3"
  },
  "language_info": {
   "codemirror_mode": {
    "name": "ipython",
    "version": 3
   },
   "file_extension": ".py",
   "mimetype": "text/x-python",
   "name": "python",
   "nbconvert_exporter": "python",
   "pygments_lexer": "ipython3",
   "version": "3.10.9"
  },
  "orig_nbformat": 4,
  "vscode": {
   "interpreter": {
    "hash": "79c2089fc523b9ad1d8821c7187927c78ede6adfb90a52983ffd5c8fec7691b7"
   }
  }
 },
 "nbformat": 4,
 "nbformat_minor": 2
}
