{
 "cells": [
  {
   "attachments": {},
   "cell_type": "markdown",
   "metadata": {},
   "source": [
    "# SarcGraphTools - TimeSeries\n",
    "\n",
    "SarcGraph applies Gaussian Process Regression (GPR) on the recovered sarcomere characteristics to reduce the noise and predict values for missing frames.\n",
    "\n",
    "In this notebook we provide a tutorial on how to use the SarcGraph package using demos and examples. The focus is on the ``SarcGraphTools.TimeSeries`` class in the ``sg_tools`` module."
   ]
  },
  {
   "attachments": {},
   "cell_type": "markdown",
   "metadata": {},
   "source": [
    "## Initialization"
   ]
  },
  {
   "attachments": {},
   "cell_type": "markdown",
   "metadata": {},
   "source": [
    "Methods in the ``SarcGraphTools`` class need the information that will be saved by running ``SarcGraph.sarcomere_detection()``.\n",
    "\n",
    "To showcase this we use ``samples/sample_1.avi``."
   ]
  },
  {
   "cell_type": "code",
   "execution_count": 1,
   "metadata": {},
   "outputs": [
    {
     "name": "stdout",
     "output_type": "stream",
     "text": [
      "Frame 79: 91 trajectories present.\n"
     ]
    },
    {
     "data": {
      "text/html": [
       "<div>\n",
       "<style scoped>\n",
       "    .dataframe tbody tr th:only-of-type {\n",
       "        vertical-align: middle;\n",
       "    }\n",
       "\n",
       "    .dataframe tbody tr th {\n",
       "        vertical-align: top;\n",
       "    }\n",
       "\n",
       "    .dataframe thead th {\n",
       "        text-align: right;\n",
       "    }\n",
       "</style>\n",
       "<table border=\"1\" class=\"dataframe\">\n",
       "  <thead>\n",
       "    <tr style=\"text-align: right;\">\n",
       "      <th></th>\n",
       "      <th>frame</th>\n",
       "      <th>sarc_id</th>\n",
       "      <th>x</th>\n",
       "      <th>y</th>\n",
       "      <th>length</th>\n",
       "      <th>width</th>\n",
       "      <th>angle</th>\n",
       "      <th>zdiscs</th>\n",
       "    </tr>\n",
       "  </thead>\n",
       "  <tbody>\n",
       "    <tr>\n",
       "      <th>1653</th>\n",
       "      <td>53</td>\n",
       "      <td>20</td>\n",
       "      <td>132.386494</td>\n",
       "      <td>71.350203</td>\n",
       "      <td>23.043486</td>\n",
       "      <td>26.973902</td>\n",
       "      <td>2.510055</td>\n",
       "      <td>-24,-22</td>\n",
       "    </tr>\n",
       "    <tr>\n",
       "      <th>3775</th>\n",
       "      <td>15</td>\n",
       "      <td>47</td>\n",
       "      <td>245.842441</td>\n",
       "      <td>140.939793</td>\n",
       "      <td>12.445656</td>\n",
       "      <td>9.201424</td>\n",
       "      <td>3.135252</td>\n",
       "      <td>4,40</td>\n",
       "    </tr>\n",
       "    <tr>\n",
       "      <th>4553</th>\n",
       "      <td>73</td>\n",
       "      <td>56</td>\n",
       "      <td>212.627535</td>\n",
       "      <td>178.069612</td>\n",
       "      <td>13.616644</td>\n",
       "      <td>9.901414</td>\n",
       "      <td>1.052414</td>\n",
       "      <td>16,21</td>\n",
       "    </tr>\n",
       "    <tr>\n",
       "      <th>1202</th>\n",
       "      <td>2</td>\n",
       "      <td>15</td>\n",
       "      <td>90.046807</td>\n",
       "      <td>129.103695</td>\n",
       "      <td>24.693173</td>\n",
       "      <td>23.387873</td>\n",
       "      <td>2.093004</td>\n",
       "      <td>-30,-28</td>\n",
       "    </tr>\n",
       "    <tr>\n",
       "      <th>5627</th>\n",
       "      <td>27</td>\n",
       "      <td>70</td>\n",
       "      <td>123.581076</td>\n",
       "      <td>225.094996</td>\n",
       "      <td>21.348101</td>\n",
       "      <td>9.285022</td>\n",
       "      <td>0.100885</td>\n",
       "      <td>48,54</td>\n",
       "    </tr>\n",
       "  </tbody>\n",
       "</table>\n",
       "</div>"
      ],
      "text/plain": [
       "      frame  sarc_id           x           y     length      width     angle  \\\n",
       "1653     53       20  132.386494   71.350203  23.043486  26.973902  2.510055   \n",
       "3775     15       47  245.842441  140.939793  12.445656   9.201424  3.135252   \n",
       "4553     73       56  212.627535  178.069612  13.616644   9.901414  1.052414   \n",
       "1202      2       15   90.046807  129.103695  24.693173  23.387873  2.093004   \n",
       "5627     27       70  123.581076  225.094996  21.348101   9.285022  0.100885   \n",
       "\n",
       "       zdiscs  \n",
       "1653  -24,-22  \n",
       "3775     4,40  \n",
       "4553    16,21  \n",
       "1202  -30,-28  \n",
       "5627    48,54  "
      ]
     },
     "execution_count": 1,
     "metadata": {},
     "output_type": "execute_result"
    }
   ],
   "source": [
    "import numpy as np\n",
    "import matplotlib.pyplot as plt\n",
    "import pandas as pd\n",
    "\n",
    "from sarcgraph.sg import SarcGraph\n",
    "\n",
    "sg = SarcGraph(output_dir='tutorial-results', file_type='video')\n",
    "sarcomeres, _ = sg.sarcomere_detection(file_path='../samples/sample_1.avi')\n",
    "\n",
    "sarcomeres.sample(5)"
   ]
  },
  {
   "attachments": {},
   "cell_type": "markdown",
   "metadata": {},
   "source": [
    "By dafault ``save_output=True`` in ``sg.sarcomere_detection()`` and the following information will be saved in ``../tutorial-results``:\n",
    "\n",
    "- raw video frames (grayscale)\n",
    "- filtered video frames\n",
    "- zdisc contours\n",
    "- segmented zdiscs information\n",
    "- tracked zdiscs information\n",
    "- detected sarcomeres information"
   ]
  },
  {
   "attachments": {},
   "cell_type": "markdown",
   "metadata": {},
   "source": [
    "## Gaussian Process Regression (GPR)"
   ]
  },
  {
   "cell_type": "code",
   "execution_count": 4,
   "metadata": {},
   "outputs": [
    {
     "data": {
      "text/html": [
       "<div>\n",
       "<style scoped>\n",
       "    .dataframe tbody tr th:only-of-type {\n",
       "        vertical-align: middle;\n",
       "    }\n",
       "\n",
       "    .dataframe tbody tr th {\n",
       "        vertical-align: top;\n",
       "    }\n",
       "\n",
       "    .dataframe thead th {\n",
       "        text-align: right;\n",
       "    }\n",
       "</style>\n",
       "<table border=\"1\" class=\"dataframe\">\n",
       "  <thead>\n",
       "    <tr style=\"text-align: right;\">\n",
       "      <th></th>\n",
       "      <th>frame</th>\n",
       "      <th>sarc_id</th>\n",
       "      <th>x</th>\n",
       "      <th>y</th>\n",
       "      <th>length</th>\n",
       "      <th>width</th>\n",
       "      <th>angle</th>\n",
       "      <th>zdiscs</th>\n",
       "      <th>length_norm</th>\n",
       "    </tr>\n",
       "  </thead>\n",
       "  <tbody>\n",
       "    <tr>\n",
       "      <th>5197</th>\n",
       "      <td>77</td>\n",
       "      <td>64</td>\n",
       "      <td>265.486598</td>\n",
       "      <td>137.350350</td>\n",
       "      <td>17.654533</td>\n",
       "      <td>9.447221</td>\n",
       "      <td>0.716688</td>\n",
       "      <td>36,40</td>\n",
       "      <td>0.052393</td>\n",
       "    </tr>\n",
       "    <tr>\n",
       "      <th>4250</th>\n",
       "      <td>10</td>\n",
       "      <td>53</td>\n",
       "      <td>217.662162</td>\n",
       "      <td>236.867012</td>\n",
       "      <td>13.669882</td>\n",
       "      <td>9.715019</td>\n",
       "      <td>0.331083</td>\n",
       "      <td>12,19</td>\n",
       "      <td>-0.001919</td>\n",
       "    </tr>\n",
       "    <tr>\n",
       "      <th>663</th>\n",
       "      <td>23</td>\n",
       "      <td>8</td>\n",
       "      <td>115.404522</td>\n",
       "      <td>87.345768</td>\n",
       "      <td>23.489453</td>\n",
       "      <td>25.458865</td>\n",
       "      <td>2.383478</td>\n",
       "      <td>-35,-24</td>\n",
       "      <td>0.010821</td>\n",
       "    </tr>\n",
       "    <tr>\n",
       "      <th>4058</th>\n",
       "      <td>58</td>\n",
       "      <td>50</td>\n",
       "      <td>228.199603</td>\n",
       "      <td>194.114402</td>\n",
       "      <td>9.564290</td>\n",
       "      <td>10.363934</td>\n",
       "      <td>0.400272</td>\n",
       "      <td>8,13</td>\n",
       "      <td>-0.000968</td>\n",
       "    </tr>\n",
       "    <tr>\n",
       "      <th>4987</th>\n",
       "      <td>27</td>\n",
       "      <td>62</td>\n",
       "      <td>250.253870</td>\n",
       "      <td>264.532038</td>\n",
       "      <td>11.760491</td>\n",
       "      <td>9.542909</td>\n",
       "      <td>1.599430</td>\n",
       "      <td>23,42</td>\n",
       "      <td>-0.023009</td>\n",
       "    </tr>\n",
       "  </tbody>\n",
       "</table>\n",
       "</div>"
      ],
      "text/plain": [
       "      frame  sarc_id           x           y     length      width     angle  \\\n",
       "5197     77       64  265.486598  137.350350  17.654533   9.447221  0.716688   \n",
       "4250     10       53  217.662162  236.867012  13.669882   9.715019  0.331083   \n",
       "663      23        8  115.404522   87.345768  23.489453  25.458865  2.383478   \n",
       "4058     58       50  228.199603  194.114402   9.564290  10.363934  0.400272   \n",
       "4987     27       62  250.253870  264.532038  11.760491   9.542909  1.599430   \n",
       "\n",
       "       zdiscs  length_norm  \n",
       "5197    36,40     0.052393  \n",
       "4250    12,19    -0.001919  \n",
       "663   -35,-24     0.010821  \n",
       "4058     8,13    -0.000968  \n",
       "4987    23,42    -0.023009  "
      ]
     },
     "execution_count": 4,
     "metadata": {},
     "output_type": "execute_result"
    }
   ],
   "source": [
    "from sarcgraph.sg_tools import SarcGraphTools\n",
    "\n",
    "sg_tools = SarcGraphTools(input_dir='tutorial-results')\n",
    "sarcomeres_gpr = sg_tools.time_series.sarcomeres_gpr()\n",
    "\n",
    "sarcomeres_gpr.sample(5)"
   ]
  },
  {
   "attachments": {},
   "cell_type": "markdown",
   "metadata": {},
   "source": [
    "This saves sarcomeres info with GPR as ``sarcomeres_gpr.csv`` in the specified input directory ``input_dir`` if ``save_results=True`` in ``SarcGraphTools``.\n",
    "\n",
    "**Note**\n",
    "\n",
    "Additionally, ``sarcomeres_gpr()`` computes normalized length for each sarcomeres over all frames into ``length_norm`` column."
   ]
  }
 ],
 "metadata": {
  "kernelspec": {
   "display_name": "sg2",
   "language": "python",
   "name": "python3"
  },
  "language_info": {
   "codemirror_mode": {
    "name": "ipython",
    "version": 3
   },
   "file_extension": ".py",
   "mimetype": "text/x-python",
   "name": "python",
   "nbconvert_exporter": "python",
   "pygments_lexer": "ipython3",
   "version": "3.10.9"
  },
  "orig_nbformat": 4,
  "vscode": {
   "interpreter": {
    "hash": "79c2089fc523b9ad1d8821c7187927c78ede6adfb90a52983ffd5c8fec7691b7"
   }
  }
 },
 "nbformat": 4,
 "nbformat_minor": 2
}
